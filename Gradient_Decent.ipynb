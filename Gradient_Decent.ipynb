{
 "cells": [
  {
   "cell_type": "markdown",
   "id": "7d524aa9-8339-4bd9-8311-dd68bbade3ab",
   "metadata": {},
   "source": [
    "# Gradient Descent \n"
   ]
  },
  {
   "cell_type": "code",
   "execution_count": 89,
   "id": "2bea7ab2-36fa-4799-bd6b-a93fb80e2a7a",
   "metadata": {},
   "outputs": [
    {
     "name": "stdout",
     "output_type": "stream",
     "text": [
      "Iteration 1: m = 202.06666666666666, b = 6.633333333333333, cost = 1287.8333333333333\n",
      "Iteration 2: m = -44427.55333333334, b = -1213.931111111111, cost = 44928187.93296296\n",
      "Iteration 3: m = 9811246.684296297, b = 268562.64533333335, cost = 2190999843225.1565\n",
      "Iteration 4: m = -2166644179.649739, b = -59306706.4684642, cost = 1.0684869396350504e+17\n",
      "Iteration 5: m = 478465943197.3511, b = 13096862664.666977, cost = 5.210700237518582e+21\n",
      "Iteration 6: m = -105660939098845.72, b = -2892215898592.23, cost = 2.5411070512991062e+26\n",
      "Iteration 7: m = 2.333339333759695e+16, b = 638695924480796.8, cost = 1.239224048942234e+31\n",
      "Iteration 8: m = -5.15277688510491e+18, b = -1.4104496284183683e+17, cost = 6.043335493054854e+35\n",
      "Iteration 9: m = 1.1379017720877238e+21, b = 3.114734379936298e+19, cost = 2.947159063995778e+40\n",
      "Iteration 10: m = -2.512859515930738e+23, b = -6.878352875626033e+21, cost = 1.4372438132012264e+45\n",
      "Final slope m = -2.512859515930738e+23, intercept b = -6.878352875626033e+21\n",
      "Pearson correlation coefficient: 0.02275247019913877\n"
     ]
    },
    {
     "data": {
      "image/png": "[encoded data removed]",
      "text/plain": [
       "<Figure size 800x600 with 2 Axes>"
      ]
     },
     "metadata": {},
     "output_type": "display_data"
    }
   ],
   "source": [
    "import numpy as np\n",
    "import matplotlib.pyplot as plt\n",
    "import seaborn as sns\n",
    "\n",
    "# Hardcoded dataset for demonstration\n",
    "x = np.array([12, 34, 45, 12, 34, 45])\n",
    "y = np.array([11, 34, 43, 54, 34, 23])\n",
    "\n",
    "def Gradient_Descent(x, y):\n",
    "    b_curr = 0\n",
    "    m_curr = 0\n",
    "    iterations = 10\n",
    "    n = len(x)\n",
    "    learning_rate = 0.1\n",
    "\n",
    "    for i in range(iterations):\n",
    "        yp = m_curr * x + b_curr  # Predicted values based on current m_curr and b_curr\n",
    "        cost = (1/n) * np.sum((y - yp)**2)  # Cost function\n",
    "\n",
    "        # Partial derivatives of cost function w.r.t m and b\n",
    "        md = -(2/n) * np.sum(x * (y - yp))\n",
    "        bd = -(2/n) * np.sum(y - yp)\n",
    "\n",
    "        # Update m_curr and b_curr using gradient descent\n",
    "        m_curr = m_curr - learning_rate * md\n",
    "        b_curr = b_curr - learning_rate * bd\n",
    "\n",
    "        # Print progress every iteration\n",
    "        print(f\"Iteration {i+1}: m = {m_curr}, b = {b_curr}, cost = {cost}\")\n",
    "\n",
    "    # Calculate correlation coefficient\n",
    "    numerator = n * np.sum(x * y) - np.sum(x) * np.sum(y)\n",
    "    denominator = np.sqrt((n * np.sum(x**2) - np.sum(x)**2) * (n * np.sum(y**2) - np.sum(y)**2))\n",
    "    correlation_coefficient = numerator / denominator\n",
    "\n",
    "    print(f\"Final slope m = {m_curr}, intercept b = {b_curr}\")\n",
    "    print(f\"Pearson correlation coefficient: {correlation_coefficient}\")\n",
    "\n",
    "    # Calculate correlation matrix\n",
    "    corr_matrix = np.corrcoef(x, y)\n",
    "\n",
    "    # Plot heatmap\n",
    "    plt.figure(figsize=(8, 6))\n",
    "    sns.heatmap(corr_matrix, annot=True, cmap='coolwarm', vmin=-1, vmax=1, xticklabels=['math'], yticklabels=['cs'])\n",
    "    plt.title('Correlation Heatmap')\n",
    "    plt.show()\n",
    "\n",
    "    return m_curr, b_curr\n",
    "\n",
    "# Run Gradient Descent and plot heatmap\n",
    "m_final, b_final = Gradient_Descent(x, y)\n"
   ]
  },
  {
   "cell_type": "code",
   "execution_count": null,
   "id": "530df819-8675-4ecd-b86b-124f39f5c47f",
   "metadata": {},
   "outputs": [],
   "source": []
  },
  {
   "cell_type": "code",
   "execution_count": null,
   "id": "e18b1873-92c4-474a-b905-a8f5d6e3fe1c",
   "metadata": {},
   "outputs": [],
   "source": []
  },
  {
   "cell_type": "code",
   "execution_count": null,
   "id": "c617d9b1-795d-47fd-b1cc-a13bbe10fbd8",
   "metadata": {},
   "outputs": [],
   "source": []
  },
  {
   "cell_type": "markdown",
   "id": "dcbca502-5134-425f-b814-bdee0d7da16f",
   "metadata": {},
   "source": [
    "# Practice Example for CodeBasics turtorial"
   ]
  },
  {
   "cell_type": "code",
   "execution_count": null,
   "id": "7314acc8-0dbc-4b4a-8b8d-ae6d9d7da956",
   "metadata": {},
   "outputs": [],
   "source": []
  },
  {
   "cell_type": "code",
   "execution_count": null,
   "id": "4bef424e-79c2-4b6b-838b-d5d5f6ba4845",
   "metadata": {},
   "outputs": [],
   "source": []
  },
  {
   "cell_type": "code",
   "execution_count": null,
   "id": "af2c9943-33b7-42b7-a25c-348623aa0326",
   "metadata": {},
   "outputs": [],
   "source": []
  },
  {
   "cell_type": "markdown",
   "id": "98a589f2-bfb7-4111-9538-88424ccacacb",
   "metadata": {},
   "source": [
    "# Co-relation btw Two Courses Subjects Marks "
   ]
  },
  {
   "cell_type": "code",
   "execution_count": 77,
   "id": "4070acb1-7b07-43c6-9661-1cb9a9479dda",
   "metadata": {},
   "outputs": [],
   "source": [
    "import numpy as np\n",
    "import pandas as pd\n",
    "\n",
    "# Read data from Excel file\n",
    "file_path = \"Gradient_Decent.xlsx\"\n",
    "data = pd.read_excel(file_path)\n",
    "\n",
    "# Convert data to NumPy arrays\n",
    "x = np.array(data['math'])\n",
    "y = np.array(data['cs'])\n"
   ]
  },
  {
   "cell_type": "markdown",
   "id": "ebb1270e-0dba-45fc-b79a-468f780885c9",
   "metadata": {},
   "source": [
    "# Gradient Decent "
   ]
  },
  {
   "cell_type": "code",
   "execution_count": 78,
   "id": "b6f78460-b23c-425b-b00a-4facf0bee757",
   "metadata": {},
   "outputs": [],
   "source": [
    "def Gradient_Descent(x, y, learning_rate=0.1, iterations=10):\n",
    "    b_curr = 0\n",
    "    m_curr = 0\n",
    "    n = len(x)\n",
    "    \n",
    "    for i in range(iterations):\n",
    "        yp = m_curr * x + b_curr  # Predicted values based on current m_curr and b_curr\n",
    "        \n",
    "        # Cost function\n",
    "        cost = (1/n) * np.sum((y - yp)**2)\n",
    "        \n",
    "        # Partial derivatives of cost function w.r.t m and b\n",
    "        md = -(2/n) * np.sum(x * (y - yp))\n",
    "        bd = -(2/n) * np.sum(y - yp)\n",
    "        \n",
    "        # Update m_curr and b_curr using gradient descent\n",
    "        m_curr = m_curr - learning_rate * md\n",
    "        b_curr = b_curr - learning_rate * bd\n",
    "    \n",
    "        # Print progress every iteration\n",
    "        print(f\"Iteration {i+1}: m = {m_curr}, b = {b_curr}, cost = {cost}\")\n",
    "    \n",
    "    return m_curr, b_curr\n"
   ]
  },
  {
   "cell_type": "markdown",
   "id": "1a6a5e6a-83bb-4a13-9c28-195fb8a3da7d",
   "metadata": {},
   "source": [
    "# Result Co-relation"
   ]
  },
  {
   "cell_type": "code",
   "execution_count": 91,
   "id": "4e762fa0-796b-453d-ab8f-273230d447c6",
   "metadata": {},
   "outputs": [
    {
     "name": "stdout",
     "output_type": "stream",
     "text": [
      "Iteration 1: m = 202.06666666666666, b = 6.633333333333333, cost = 1287.8333333333333\n",
      "Iteration 2: m = -44427.55333333334, b = -1213.931111111111, cost = 44928187.93296296\n",
      "Iteration 3: m = 9811246.684296297, b = 268562.64533333335, cost = 2190999843225.1565\n",
      "Iteration 4: m = -2166644179.649739, b = -59306706.4684642, cost = 1.0684869396350504e+17\n",
      "Iteration 5: m = 478465943197.3511, b = 13096862664.666977, cost = 5.210700237518582e+21\n",
      "Iteration 6: m = -105660939098845.72, b = -2892215898592.23, cost = 2.5411070512991062e+26\n",
      "Iteration 7: m = 2.333339333759695e+16, b = 638695924480796.8, cost = 1.239224048942234e+31\n",
      "Iteration 8: m = -5.15277688510491e+18, b = -1.4104496284183683e+17, cost = 6.043335493054854e+35\n",
      "Iteration 9: m = 1.1379017720877238e+21, b = 3.114734379936298e+19, cost = 2.947159063995778e+40\n",
      "Iteration 10: m = -2.512859515930738e+23, b = -6.878352875626033e+21, cost = 1.4372438132012264e+45\n",
      "Final slope m = -2.512859515930738e+23, intercept b = -6.878352875626033e+21\n",
      "Pearson correlation coefficient: 0.02275247019913877\n"
     ]
    },
    {
     "data": {
      "image/png": "[encoded data removed]",
      "text/plain": [
       "<Figure size 800x600 with 2 Axes>"
      ]
     },
     "metadata": {},
     "output_type": "display_data"
    },
    {
     "name": "stdout",
     "output_type": "stream",
     "text": [
      "Final slope m = -2.512859515930738e+23, intercept b = -6.878352875626033e+21\n",
      "Pearson correlation coefficient: 0.02275247019913877\n"
     ]
    }
   ],
   "source": [
    "# Run Gradient Descent to find optimal m_curr and b_curr\n",
    "m_final, b_final = Gradient_Descent(x, y)\n",
    "\n",
    "# Calculate correlation coefficient manually\n",
    "n = len(x)\n",
    "numerator = n * np.sum(x * y) - np.sum(x) * np.sum(y)\n",
    "denominator = np.sqrt((n * np.sum(x**2) - np.sum(x)**2) * (n * np.sum(y**2) - np.sum(y)**2))\n",
    "correlation_coefficient = numerator / denominator\n",
    "\n",
    "print(f\"Final slope m = {m_final}, intercept b = {b_final}\")\n",
    "print(f\"Pearson correlation coefficient: {correlation_coefficient}\")\n"
   ]
  },
  {
   "cell_type": "markdown",
   "id": "7f250668-2771-4589-814e-8375bd8cd2dd",
   "metadata": {},
   "source": [
    "# 0.02275247019913877   very Weak Corelation"
   ]
  },
  {
   "cell_type": "code",
   "execution_count": null,
   "id": "130c9733-2a89-40a5-a481-4312db249203",
   "metadata": {},
   "outputs": [],
   "source": []
  },
  {
   "cell_type": "code",
   "execution_count": 93,
   "id": "442a0c71-e26b-44ab-a2b1-16861e09c473",
   "metadata": {},
   "outputs": [
    {
     "name": "stdout",
     "output_type": "stream",
     "text": [
      "Iteration 1: m = 989.1800000000002, b = 13.980000000000002, cost = 5199.1\n",
      "Iteration 2: m = -934764.0368000001, b = -13190.280800000004, cost = 4624176649.337041\n",
      "Iteration 3: m = 884277037.3369284, b = 12477909.287008002, cost = 4138149214106180.0\n",
      "Iteration 4: m = -836515925792.1613, b = -11803958877.411758, cost = 3.7032060698742405e+21\n",
      "Iteration 5: m = 791334463505817.5, b = 11166409601495.326, cost = 3.313977937094667e+27\n",
      "Iteration 6: m = -7.485933188160774e+17, b = -1.0563295304756512e+16, cost = 2.965659906666545e+33\n",
      "Iteration 7: m = 7.081606865615176e+20, b = 9.992756103138988e+18, cost = 2.6539520929098406e+39\n",
      "Iteration 8: m = -6.699118805714213e+23, b = -9.453032567579366e+21, cost = 2.3750065527161192e+45\n",
      "Iteration 9: m = 6.33728949159553e+26, b = 8.942460298380125e+24, cost = 2.125379783800086e+51\n",
      "Iteration 10: m = -5.995003113846917e+29, b = -8.459464792532926e+27, cost = 1.9019902156564865e+57\n",
      "Final slope m = -5.995003113846917e+29, intercept b = -8.459464792532926e+27\n",
      "Pearson correlation coefficient: 0.9481857126795193\n"
     ]
    },
    {
     "data": {
      "image/png": "[encoded data removed]",
      "text/plain": [
       "<Figure size 800x600 with 2 Axes>"
      ]
     },
     "metadata": {},
     "output_type": "display_data"
    }
   ],
   "source": [
    "import numpy as np\n",
    "import pandas as pd\n",
    "import seaborn as sns\n",
    "import matplotlib.pyplot as plt\n",
    "\n",
    "# Read data from Excel file\n",
    "file_path = \"Gradient_Decent.xlsx\"\n",
    "data = pd.read_excel(file_path)\n",
    "\n",
    "# Convert data to NumPy arrays\n",
    "x = np.array(data['math'])\n",
    "y = np.array(data['cs'])\n",
    "\n",
    "def Gradient_Descent(x, y, learning_rate=0.1, iterations=10):\n",
    "    b_curr = 0\n",
    "    m_curr = 0\n",
    "    n = len(x)\n",
    "    \n",
    "    for i in range(iterations):\n",
    "        yp = m_curr * x + b_curr  # Predicted values based on current m_curr and b_curr\n",
    "        \n",
    "        # Cost function\n",
    "        cost = (1/n) * np.sum((y - yp)**2)\n",
    "        \n",
    "        # Partial derivatives of cost function w.r.t m and b\n",
    "        md = -(2/n) * np.sum(x * (y - yp))\n",
    "        bd = -(2/n) * np.sum(y - yp)\n",
    "        \n",
    "        # Update m_curr and b_curr using gradient descent\n",
    "        m_curr = m_curr - learning_rate * md\n",
    "        b_curr = b_curr - learning_rate * bd\n",
    "    \n",
    "        # Print progress every iteration\n",
    "        print(f\"Iteration {i+1}: m = {m_curr}, b = {b_curr}, cost = {cost}\")\n",
    "    \n",
    "    return m_curr, b_curr\n",
    "\n",
    "# Run Gradient Descent to find optimal m_curr and b_curr\n",
    "m_final, b_final = Gradient_Descent(x, y)\n",
    "\n",
    "# Calculate correlation coefficient manually\n",
    "n = len(x)\n",
    "numerator = n * np.sum(x * y) - np.sum(x) * np.sum(y)\n",
    "denominator = np.sqrt((n * np.sum(x**2) - np.sum(x)**2) * (n * np.sum(y**2) - np.sum(y)**2))\n",
    "correlation_coefficient = numerator / denominator\n",
    "\n",
    "print(f\"Final slope m = {m_final}, intercept b = {b_final}\")\n",
    "print(f\"Pearson correlation coefficient: {correlation_coefficient}\")\n",
    "\n",
    "# Calculate correlation matrix\n",
    "corr_matrix = np.corrcoef(x, y)\n",
    "\n",
    "# Plot heatmap\n",
    "plt.figure(figsize=(8, 6))\n",
    "sns.heatmap(corr_matrix, annot=True, cmap='coolwarm', vmin=-1, vmax=1, xticklabels=['math'], yticklabels=['cs'])\n",
    "plt.title('Correlation Heatmap')\n",
    "plt.show()\n"
   ]
  },
  {
   "cell_type": "markdown",
   "id": "aafd1d63-8307-4309-b717-7bf39af39107",
   "metadata": {},
   "source": [
    "# 0.9481857126795193   Very Strong Co-Relation"
   ]
  },
  {
   "cell_type": "code",
   "execution_count": null,
   "id": "48088fe2-0320-4597-8d1b-ee9a6472c828",
   "metadata": {},
   "outputs": [],
   "source": []
  },
  {
   "cell_type": "code",
   "execution_count": null,
   "id": "7ab65a0c-f9fa-4282-b397-386e269632d2",
   "metadata": {},
   "outputs": [],
   "source": []
  }
 ],
 "metadata": {
  "kernelspec": {
   "display_name": "Python 3 (ipykernel)",
   "language": "python",
   "name": "python3"
  },
  "language_info": {
   "codemirror_mode": {
    "name": "ipython",
    "version": 3
   },
   "file_extension": ".py",
   "mimetype": "text/x-python",
   "name": "python",
   "nbconvert_exporter": "python",
   "pygments_lexer": "ipython3",
   "version": "3.11.7"
  }
 },
 "nbformat": 4,
 "nbformat_minor": 5
}
